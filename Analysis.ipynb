{
  "nbformat": 4,
  "nbformat_minor": 0,
  "metadata": {
    "colab": {
      "name": "Untitled2.ipynb",
      "provenance": [],
      "authorship_tag": "ABX9TyNxSouMs96uH1YOJmJ1FYar",
      "include_colab_link": true
    },
    "kernelspec": {
      "name": "python3",
      "display_name": "Python 3"
    }
  },
  "cells": [
    {
      "cell_type": "markdown",
      "metadata": {
        "id": "view-in-github",
        "colab_type": "text"
      },
      "source": [
        "<a href=\"https://colab.research.google.com/github/VT-Gidieon/COURSERA-SQL_FOR_DS/blob/master/Analysis.ipynb\" target=\"_parent\"><img src=\"https://colab.research.google.com/assets/colab-badge.svg\" alt=\"Open In Colab\"/></a>"
      ]
    },
    {
      "cell_type": "code",
      "metadata": {
        "id": "8to-a7NPgVir",
        "colab_type": "code",
        "colab": {}
      },
      "source": [
        "import numpy as np\n",
        "import pandas as pd"
      ],
      "execution_count": 0,
      "outputs": []
    },
    {
      "cell_type": "code",
      "metadata": {
        "id": "uWkT2dkFhOri",
        "colab_type": "code",
        "colab": {}
      },
      "source": [
        "url = \"https://raw.githubusercontent.com/VT-Gidieon/Covid_W_Analysis/master/covid19.csv\"\n",
        "df = pd.read_csv(url)"
      ],
      "execution_count": 0,
      "outputs": []
    },
    {
      "cell_type": "code",
      "metadata": {
        "id": "nLJ1bGqyhjdD",
        "colab_type": "code",
        "colab": {
          "base_uri": "https://localhost:8080/",
          "height": 399
        },
        "outputId": "0c0dd885-86be-4a61-9e8d-9bfa241dd3bd"
      },
      "source": [
        "df"
      ],
      "execution_count": 5,
      "outputs": [
        {
          "output_type": "execute_result",
          "data": {
            "text/html": [
              "<div>\n",
              "<style scoped>\n",
              "    .dataframe tbody tr th:only-of-type {\n",
              "        vertical-align: middle;\n",
              "    }\n",
              "\n",
              "    .dataframe tbody tr th {\n",
              "        vertical-align: top;\n",
              "    }\n",
              "\n",
              "    .dataframe thead th {\n",
              "        text-align: right;\n",
              "    }\n",
              "</style>\n",
              "<table border=\"1\" class=\"dataframe\">\n",
              "  <thead>\n",
              "    <tr style=\"text-align: right;\">\n",
              "      <th></th>\n",
              "      <th>country</th>\n",
              "      <th>total_cases</th>\n",
              "      <th>new_cases</th>\n",
              "      <th>total_deaths</th>\n",
              "      <th>new_deaths</th>\n",
              "      <th>total_recovered</th>\n",
              "      <th>active_cases</th>\n",
              "      <th>active_critical</th>\n",
              "      <th>total_tests</th>\n",
              "      <th>population</th>\n",
              "    </tr>\n",
              "  </thead>\n",
              "  <tbody>\n",
              "    <tr>\n",
              "      <th>0</th>\n",
              "      <td>USA</td>\n",
              "      <td>1621196</td>\n",
              "      <td>294</td>\n",
              "      <td>96359</td>\n",
              "      <td>5.0</td>\n",
              "      <td>382244</td>\n",
              "      <td>1142593</td>\n",
              "      <td>17907</td>\n",
              "      <td>13479242</td>\n",
              "      <td>330790544</td>\n",
              "    </tr>\n",
              "    <tr>\n",
              "      <th>1</th>\n",
              "      <td>Russia</td>\n",
              "      <td>326448</td>\n",
              "      <td>8894</td>\n",
              "      <td>3249</td>\n",
              "      <td>150.0</td>\n",
              "      <td>99825</td>\n",
              "      <td>223374</td>\n",
              "      <td>2300</td>\n",
              "      <td>8126626</td>\n",
              "      <td>145927804</td>\n",
              "    </tr>\n",
              "    <tr>\n",
              "      <th>2</th>\n",
              "      <td>Brazil</td>\n",
              "      <td>310921</td>\n",
              "      <td>0</td>\n",
              "      <td>20082</td>\n",
              "      <td>0.0</td>\n",
              "      <td>125960</td>\n",
              "      <td>164879</td>\n",
              "      <td>8318</td>\n",
              "      <td>735224</td>\n",
              "      <td>212393298</td>\n",
              "    </tr>\n",
              "    <tr>\n",
              "      <th>3</th>\n",
              "      <td>Spain</td>\n",
              "      <td>280117</td>\n",
              "      <td>0</td>\n",
              "      <td>27940</td>\n",
              "      <td>0.0</td>\n",
              "      <td>196958</td>\n",
              "      <td>55219</td>\n",
              "      <td>1152</td>\n",
              "      <td>3037840</td>\n",
              "      <td>46752851</td>\n",
              "    </tr>\n",
              "    <tr>\n",
              "      <th>4</th>\n",
              "      <td>UK</td>\n",
              "      <td>250908</td>\n",
              "      <td>0</td>\n",
              "      <td>36042</td>\n",
              "      <td>0.0</td>\n",
              "      <td>1918</td>\n",
              "      <td>212948</td>\n",
              "      <td>1559</td>\n",
              "      <td>3090566</td>\n",
              "      <td>67847158</td>\n",
              "    </tr>\n",
              "    <tr>\n",
              "      <th>...</th>\n",
              "      <td>...</td>\n",
              "      <td>...</td>\n",
              "      <td>...</td>\n",
              "      <td>...</td>\n",
              "      <td>...</td>\n",
              "      <td>...</td>\n",
              "      <td>...</td>\n",
              "      <td>...</td>\n",
              "      <td>...</td>\n",
              "      <td>...</td>\n",
              "    </tr>\n",
              "    <tr>\n",
              "      <th>208</th>\n",
              "      <td>St. Barth</td>\n",
              "      <td>6</td>\n",
              "      <td>0</td>\n",
              "      <td>0</td>\n",
              "      <td>0.0</td>\n",
              "      <td>6</td>\n",
              "      <td>0</td>\n",
              "      <td>0</td>\n",
              "      <td>0</td>\n",
              "      <td>9874</td>\n",
              "    </tr>\n",
              "    <tr>\n",
              "      <th>209</th>\n",
              "      <td>Western Sahara</td>\n",
              "      <td>6</td>\n",
              "      <td>0</td>\n",
              "      <td>0</td>\n",
              "      <td>0.0</td>\n",
              "      <td>6</td>\n",
              "      <td>0</td>\n",
              "      <td>0</td>\n",
              "      <td>0</td>\n",
              "      <td>595583</td>\n",
              "    </tr>\n",
              "    <tr>\n",
              "      <th>210</th>\n",
              "      <td>Anguilla</td>\n",
              "      <td>3</td>\n",
              "      <td>0</td>\n",
              "      <td>0</td>\n",
              "      <td>0.0</td>\n",
              "      <td>3</td>\n",
              "      <td>0</td>\n",
              "      <td>0</td>\n",
              "      <td>0</td>\n",
              "      <td>14988</td>\n",
              "    </tr>\n",
              "    <tr>\n",
              "      <th>211</th>\n",
              "      <td>Lesotho</td>\n",
              "      <td>1</td>\n",
              "      <td>0</td>\n",
              "      <td>0</td>\n",
              "      <td>0.0</td>\n",
              "      <td>0</td>\n",
              "      <td>1</td>\n",
              "      <td>0</td>\n",
              "      <td>0</td>\n",
              "      <td>2140374</td>\n",
              "    </tr>\n",
              "    <tr>\n",
              "      <th>212</th>\n",
              "      <td>Saint Pierre Miquelon</td>\n",
              "      <td>1</td>\n",
              "      <td>0</td>\n",
              "      <td>0</td>\n",
              "      <td>0.0</td>\n",
              "      <td>1</td>\n",
              "      <td>0</td>\n",
              "      <td>0</td>\n",
              "      <td>0</td>\n",
              "      <td>5797</td>\n",
              "    </tr>\n",
              "  </tbody>\n",
              "</table>\n",
              "<p>213 rows × 10 columns</p>\n",
              "</div>"
            ],
            "text/plain": [
              "                   country  total_cases  ... total_tests  population\n",
              "0                      USA      1621196  ...    13479242   330790544\n",
              "1                   Russia       326448  ...     8126626   145927804\n",
              "2                   Brazil       310921  ...      735224   212393298\n",
              "3                    Spain       280117  ...     3037840    46752851\n",
              "4                       UK       250908  ...     3090566    67847158\n",
              "..                     ...          ...  ...         ...         ...\n",
              "208              St. Barth            6  ...           0        9874\n",
              "209         Western Sahara            6  ...           0      595583\n",
              "210               Anguilla            3  ...           0       14988\n",
              "211                Lesotho            1  ...           0     2140374\n",
              "212  Saint Pierre Miquelon            1  ...           0        5797\n",
              "\n",
              "[213 rows x 10 columns]"
            ]
          },
          "metadata": {
            "tags": []
          },
          "execution_count": 5
        }
      ]
    },
    {
      "cell_type": "code",
      "metadata": {
        "id": "_Q_wFrkLhmtf",
        "colab_type": "code",
        "colab": {
          "base_uri": "https://localhost:8080/",
          "height": 253
        },
        "outputId": "2be889fa-29ad-40c9-cf85-5a6ec251de6a"
      },
      "source": [
        "df.describe"
      ],
      "execution_count": 29,
      "outputs": [
        {
          "output_type": "execute_result",
          "data": {
            "text/plain": [
              "<bound method NDFrame.describe of                    country  total_cases  ... total_tests  population\n",
              "0                      USA      1621196  ...    13479242   330790544\n",
              "1                   Russia       326448  ...     8126626   145927804\n",
              "2                   Brazil       310921  ...      735224   212393298\n",
              "3                    Spain       280117  ...     3037840    46752851\n",
              "4                       UK       250908  ...     3090566    67847158\n",
              "..                     ...          ...  ...         ...         ...\n",
              "208              St. Barth            6  ...           0        9874\n",
              "209         Western Sahara            6  ...           0      595583\n",
              "210               Anguilla            3  ...           0       14988\n",
              "211                Lesotho            1  ...           0     2140374\n",
              "212  Saint Pierre Miquelon            1  ...           0        5797\n",
              "\n",
              "[213 rows x 10 columns]>"
            ]
          },
          "metadata": {
            "tags": []
          },
          "execution_count": 29
        }
      ]
    },
    {
      "cell_type": "code",
      "metadata": {
        "id": "CPT_UZrvhqui",
        "colab_type": "code",
        "colab": {
          "base_uri": "https://localhost:8080/",
          "height": 306
        },
        "outputId": "696cc2a2-1912-4352-cb76-a62724c4abc0"
      },
      "source": [
        "import matplotlib.pyplot as plt\n",
        "\n",
        "plt.scatter(df.population, df.total_tests)\n",
        "plt.plot(df.population, df.total_tests)"
      ],
      "execution_count": 30,
      "outputs": [
        {
          "output_type": "execute_result",
          "data": {
            "text/plain": [
              "[<matplotlib.lines.Line2D at 0x7f72ca1e4c18>]"
            ]
          },
          "metadata": {
            "tags": []
          },
          "execution_count": 30
        },
        {
          "output_type": "display_data",
          "data": {
            "image/png": "[encoded data removed]",
            "text/plain": [
              "<Figure size 432x288 with 1 Axes>"
            ]
          },
          "metadata": {
            "tags": [],
            "needs_background": "light"
          }
        }
      ]
    },
    {
      "cell_type": "code",
      "metadata": {
        "id": "zF8L_sD9iIqf",
        "colab_type": "code",
        "colab": {}
      },
      "source": [
        "df1 = df.drop(columns=[\"country\"])"
      ],
      "execution_count": 0,
      "outputs": []
    },
    {
      "cell_type": "code",
      "metadata": {
        "id": "eLPF0z2eid7d",
        "colab_type": "code",
        "colab": {
          "base_uri": "https://localhost:8080/",
          "height": 194
        },
        "outputId": "374d1e6d-a8fc-4b3c-954c-26c7178cf4da"
      },
      "source": [
        "df1.head()"
      ],
      "execution_count": 32,
      "outputs": [
        {
          "output_type": "execute_result",
          "data": {
            "text/html": [
              "<div>\n",
              "<style scoped>\n",
              "    .dataframe tbody tr th:only-of-type {\n",
              "        vertical-align: middle;\n",
              "    }\n",
              "\n",
              "    .dataframe tbody tr th {\n",
              "        vertical-align: top;\n",
              "    }\n",
              "\n",
              "    .dataframe thead th {\n",
              "        text-align: right;\n",
              "    }\n",
              "</style>\n",
              "<table border=\"1\" class=\"dataframe\">\n",
              "  <thead>\n",
              "    <tr style=\"text-align: right;\">\n",
              "      <th></th>\n",
              "      <th>total_cases</th>\n",
              "      <th>new_cases</th>\n",
              "      <th>total_deaths</th>\n",
              "      <th>new_deaths</th>\n",
              "      <th>total_recovered</th>\n",
              "      <th>active_cases</th>\n",
              "      <th>active_critical</th>\n",
              "      <th>total_tests</th>\n",
              "      <th>population</th>\n",
              "    </tr>\n",
              "  </thead>\n",
              "  <tbody>\n",
              "    <tr>\n",
              "      <th>0</th>\n",
              "      <td>1621196</td>\n",
              "      <td>294</td>\n",
              "      <td>96359</td>\n",
              "      <td>5.0</td>\n",
              "      <td>382244</td>\n",
              "      <td>1142593</td>\n",
              "      <td>17907</td>\n",
              "      <td>13479242</td>\n",
              "      <td>330790544</td>\n",
              "    </tr>\n",
              "    <tr>\n",
              "      <th>1</th>\n",
              "      <td>326448</td>\n",
              "      <td>8894</td>\n",
              "      <td>3249</td>\n",
              "      <td>150.0</td>\n",
              "      <td>99825</td>\n",
              "      <td>223374</td>\n",
              "      <td>2300</td>\n",
              "      <td>8126626</td>\n",
              "      <td>145927804</td>\n",
              "    </tr>\n",
              "    <tr>\n",
              "      <th>2</th>\n",
              "      <td>310921</td>\n",
              "      <td>0</td>\n",
              "      <td>20082</td>\n",
              "      <td>0.0</td>\n",
              "      <td>125960</td>\n",
              "      <td>164879</td>\n",
              "      <td>8318</td>\n",
              "      <td>735224</td>\n",
              "      <td>212393298</td>\n",
              "    </tr>\n",
              "    <tr>\n",
              "      <th>3</th>\n",
              "      <td>280117</td>\n",
              "      <td>0</td>\n",
              "      <td>27940</td>\n",
              "      <td>0.0</td>\n",
              "      <td>196958</td>\n",
              "      <td>55219</td>\n",
              "      <td>1152</td>\n",
              "      <td>3037840</td>\n",
              "      <td>46752851</td>\n",
              "    </tr>\n",
              "    <tr>\n",
              "      <th>4</th>\n",
              "      <td>250908</td>\n",
              "      <td>0</td>\n",
              "      <td>36042</td>\n",
              "      <td>0.0</td>\n",
              "      <td>1918</td>\n",
              "      <td>212948</td>\n",
              "      <td>1559</td>\n",
              "      <td>3090566</td>\n",
              "      <td>67847158</td>\n",
              "    </tr>\n",
              "  </tbody>\n",
              "</table>\n",
              "</div>"
            ],
            "text/plain": [
              "   total_cases new_cases  ...  total_tests  population\n",
              "0      1621196       294  ...     13479242   330790544\n",
              "1       326448      8894  ...      8126626   145927804\n",
              "2       310921         0  ...       735224   212393298\n",
              "3       280117         0  ...      3037840    46752851\n",
              "4       250908         0  ...      3090566    67847158\n",
              "\n",
              "[5 rows x 9 columns]"
            ]
          },
          "metadata": {
            "tags": []
          },
          "execution_count": 32
        }
      ]
    },
    {
      "cell_type": "code",
      "metadata": {
        "id": "wtJp_eA8igPs",
        "colab_type": "code",
        "colab": {}
      },
      "source": [
        "X = df1.drop(columns=['new_cases'])\n",
        "y = df1['new_cases']"
      ],
      "execution_count": 0,
      "outputs": []
    },
    {
      "cell_type": "code",
      "metadata": {
        "id": "0w7K_syFipNh",
        "colab_type": "code",
        "colab": {
          "base_uri": "https://localhost:8080/",
          "height": 101
        },
        "outputId": "d74810d4-ec2f-47bb-93a4-f4abafeecfb1"
      },
      "source": [
        "for i in range(213):    \n",
        "    if(type(y[i]) == str):\n",
        "        a = y[i].replace(',','')\n",
        "        a = int(a)\n",
        "        y[i] = a"
      ],
      "execution_count": 34,
      "outputs": [
        {
          "output_type": "stream",
          "text": [
            "/usr/local/lib/python3.6/dist-packages/ipykernel_launcher.py:5: SettingWithCopyWarning: \n",
            "A value is trying to be set on a copy of a slice from a DataFrame\n",
            "\n",
            "See the caveats in the documentation: https://pandas.pydata.org/pandas-docs/stable/user_guide/indexing.html#returning-a-view-versus-a-copy\n",
            "  \"\"\"\n"
          ],
          "name": "stderr"
        }
      ]
    },
    {
      "cell_type": "code",
      "metadata": {
        "id": "A0pm7MqlivNk",
        "colab_type": "code",
        "colab": {}
      },
      "source": [
        "from sklearn.model_selection import train_test_split\n",
        "X_train, X_test, y_train, y_test = train_test_split(X, y, random_state=42)"
      ],
      "execution_count": 0,
      "outputs": []
    },
    {
      "cell_type": "code",
      "metadata": {
        "id": "aX2eea2Li3XB",
        "colab_type": "code",
        "colab": {
          "base_uri": "https://localhost:8080/",
          "height": 295
        },
        "outputId": "33d308ca-d422-4c30-f02c-d039fc5d273a"
      },
      "source": [
        "plt.scatter(X_test.population, y_test)\n",
        "plt.plot(X_test.population, y_test)"
      ],
      "execution_count": 36,
      "outputs": [
        {
          "output_type": "execute_result",
          "data": {
            "text/plain": [
              "[<matplotlib.lines.Line2D at 0x7f72ca165a58>]"
            ]
          },
          "metadata": {
            "tags": []
          },
          "execution_count": 36
        },
        {
          "output_type": "display_data",
          "data": {
            "image/png": "[encoded data removed]",
            "text/plain": [
              "<Figure size 432x288 with 1 Axes>"
            ]
          },
          "metadata": {
            "tags": [],
            "needs_background": "light"
          }
        }
      ]
    },
    {
      "cell_type": "code",
      "metadata": {
        "id": "AsfGDI6Di60s",
        "colab_type": "code",
        "colab": {}
      },
      "source": [
        "from sklearn import ensemble\n",
        "model = ensemble.GradientBoostingRegressor(n_estimators=400, max_depth=5, min_samples_split=2, learning_rate=0.01, loss='ls')"
      ],
      "execution_count": 0,
      "outputs": []
    },
    {
      "cell_type": "code",
      "metadata": {
        "id": "3RFZ1U1IjAcM",
        "colab_type": "code",
        "colab": {
          "base_uri": "https://localhost:8080/",
          "height": 169
        },
        "outputId": "4a48c218-f63e-4c15-9025-56594fb64491"
      },
      "source": [
        "model.fit(X_train, y_train)"
      ],
      "execution_count": 38,
      "outputs": [
        {
          "output_type": "execute_result",
          "data": {
            "text/plain": [
              "GradientBoostingRegressor(alpha=0.9, ccp_alpha=0.0, criterion='friedman_mse',\n",
              "                          init=None, learning_rate=0.01, loss='ls', max_depth=5,\n",
              "                          max_features=None, max_leaf_nodes=None,\n",
              "                          min_impurity_decrease=0.0, min_impurity_split=None,\n",
              "                          min_samples_leaf=1, min_samples_split=2,\n",
              "                          min_weight_fraction_leaf=0.0, n_estimators=400,\n",
              "                          n_iter_no_change=None, presort='deprecated',\n",
              "                          random_state=None, subsample=1.0, tol=0.0001,\n",
              "                          validation_fraction=0.1, verbose=0, warm_start=False)"
            ]
          },
          "metadata": {
            "tags": []
          },
          "execution_count": 38
        }
      ]
    },
    {
      "cell_type": "code",
      "metadata": {
        "id": "Gaug2hr9jHYu",
        "colab_type": "code",
        "colab": {
          "base_uri": "https://localhost:8080/",
          "height": 253
        },
        "outputId": "2b10dab2-186b-41aa-981e-91a4da75e9df"
      },
      "source": [
        "model.predict(X_test)"
      ],
      "execution_count": 39,
      "outputs": [
        {
          "output_type": "execute_result",
          "data": {
            "text/plain": [
              "array([ 4.55340724e+00,  2.02135671e+00,  3.96770652e+00,  2.02135671e+00,\n",
              "        2.35721393e+02,  5.37949216e+01,  8.73600228e+03,  3.06920510e+00,\n",
              "        1.09603579e+01,  2.02135671e+00,  2.02135671e+00,  2.02135671e+00,\n",
              "        5.30359052e+00,  5.30359052e+00,  2.12984622e+00,  2.02135671e+00,\n",
              "        2.02135671e+00,  1.33465795e+03,  1.93934140e+00,  2.02135671e+00,\n",
              "        2.22074490e+00,  2.02135671e+00,  2.02135671e+00,  2.02135671e+00,\n",
              "        2.12984622e+00,  1.53488959e+01,  8.90515800e+00,  1.07383924e+00,\n",
              "        2.12984622e+00, -4.76350774e-01,  3.96588597e+00,  2.02135671e+00,\n",
              "        2.05873520e+01,  5.19510101e+00,  1.52185560e+02,  2.02135671e+00,\n",
              "        2.12984622e+00,  2.02135671e+00,  5.08587635e+00,  2.02630920e+00,\n",
              "        2.12984622e+00,  2.02135671e+00,  1.89217369e+00,  2.22074490e+00,\n",
              "        2.02135671e+00,  2.02135671e+00,  5.30359052e+00,  3.06920510e+00,\n",
              "        2.12984622e+00,  2.02135671e+00,  2.84027866e+00,  2.82371085e+00,\n",
              "        1.68880127e+02,  8.45223580e+00])"
            ]
          },
          "metadata": {
            "tags": []
          },
          "execution_count": 39
        }
      ]
    },
    {
      "cell_type": "code",
      "metadata": {
        "id": "F7-GGMN9jR1E",
        "colab_type": "code",
        "colab": {
          "base_uri": "https://localhost:8080/",
          "height": 34
        },
        "outputId": "cca52dd3-adaa-44ba-a5b8-7a95bac29dc3"
      },
      "source": [
        "from sklearn.metrics import accuracy_score\n",
        "model.score(X_test, y_test)"
      ],
      "execution_count": 40,
      "outputs": [
        {
          "output_type": "execute_result",
          "data": {
            "text/plain": [
              "-1.3247130404956375"
            ]
          },
          "metadata": {
            "tags": []
          },
          "execution_count": 40
        }
      ]
    },
    {
      "cell_type": "code",
      "metadata": {
        "id": "md0MLApYjX-i",
        "colab_type": "code",
        "colab": {}
      },
      "source": [
        "pred = model.predict(X_test)"
      ],
      "execution_count": 0,
      "outputs": []
    },
    {
      "cell_type": "code",
      "metadata": {
        "id": "oYvrB4tujblk",
        "colab_type": "code",
        "colab": {
          "base_uri": "https://localhost:8080/",
          "height": 295
        },
        "outputId": "9407a0a4-51e3-46d5-ed92-ccf95d4a2859"
      },
      "source": [
        "plt.scatter(X_test.population, pred)\n",
        "plt.plot(X_test.population, pred)"
      ],
      "execution_count": 42,
      "outputs": [
        {
          "output_type": "execute_result",
          "data": {
            "text/plain": [
              "[<matplotlib.lines.Line2D at 0x7f72ca0eab70>]"
            ]
          },
          "metadata": {
            "tags": []
          },
          "execution_count": 42
        },
        {
          "output_type": "display_data",
          "data": {
            "image/png": "[encoded data removed]",
            "text/plain": [
              "<Figure size 432x288 with 1 Axes>"
            ]
          },
          "metadata": {
            "tags": [],
            "needs_background": "light"
          }
        }
      ]
    },
    {
      "cell_type": "code",
      "metadata": {
        "id": "w7AT2mLRjemJ",
        "colab_type": "code",
        "colab": {
          "base_uri": "https://localhost:8080/",
          "height": 929
        },
        "outputId": "0f48bfd3-7820-4a79-bf99-55a14b84f764"
      },
      "source": [
        "a_pred = model.predict(X)\n",
        "a_pred"
      ],
      "execution_count": 43,
      "outputs": [
        {
          "output_type": "execute_result",
          "data": {
            "text/plain": [
              "array([ 2.89328771e+02,  8.73600228e+03,  4.16991824e+00,  4.16991824e+00,\n",
              "        4.16991824e+00,  4.16991824e+00,  4.16991824e+00,  4.55340724e+00,\n",
              "        4.16991824e+00,  4.55340724e+00,  1.17323949e+03,  4.16991824e+00,\n",
              "        2.64948819e+00,  4.16991824e+00,  4.55340724e+00,  8.73600228e+03,\n",
              "       -4.76350774e-01,  4.16991824e+00,  1.33465795e+03, -3.83451221e-01,\n",
              "        1.06215287e+01,  7.02821111e-02,  7.02821111e-02,  7.02821111e-02,\n",
              "        2.82371085e+00,  1.07383924e+00,  1.66524626e+03,  5.84536027e+00,\n",
              "        6.02343645e+00,  2.71522134e+00,  8.90515800e+00,  1.28079920e+00,\n",
              "        4.33249786e+02,  8.13734090e-01, -2.16395880e-02,  8.68499184e-02,\n",
              "        6.23976669e+00,  2.55082896e+00,  2.84027866e+00,  2.84027866e+00,\n",
              "        8.13734090e-01,  2.78822635e-01,  1.59917695e+02,  3.85739646e+00,\n",
              "        1.79594961e+01,  1.93934140e+00,  1.77483944e+00,  8.13734090e-01,\n",
              "        5.31961200e+02,  3.89783070e+00,  1.83085189e+00,  3.66841901e+00,\n",
              "        2.13479870e+00,  3.16088801e+02,  3.96770652e+00,  3.96588597e+00,\n",
              "        1.79594961e+01,  1.65528677e-01,  1.77483944e+00,  3.85739646e+00,\n",
              "        1.89217369e+00,  1.16002807e+01,  3.19369859e+02,  2.64835242e+02,\n",
              "        2.94088099e+00,  2.02630920e+00,  3.96770652e+00,  4.85049984e+00,\n",
              "        1.68880127e+02,  1.52185560e+02,  2.22074490e+00,  5.19436585e+00,\n",
              "        3.00561864e+00,  5.30359052e+00,  3.96588597e+00,  1.09603579e+01,\n",
              "        2.38581721e+02,  4.35348666e+01,  2.11225539e+00,  2.22074490e+00,\n",
              "        2.12984622e+00,  2.02630920e+00,  2.02135671e+00,  3.09174841e+00,\n",
              "        2.02630920e+00,  2.22074490e+00,  3.06920510e+00,  2.02135671e+00,\n",
              "        5.34111152e+01,  4.02273645e+00,  2.22074490e+00,  5.08587635e+00,\n",
              "        5.19510101e+00,  5.19510101e+00,  5.08587635e+00,  3.06920510e+00,\n",
              "        1.35979088e+01,  5.08587635e+00,  2.22074490e+00,  2.02135671e+00,\n",
              "        5.30359052e+00,  2.12984622e+00,  2.22074490e+00,  3.68585628e+00,\n",
              "        1.53488959e+01,  2.02135671e+00,  2.22074490e+00,  2.22074490e+00,\n",
              "        6.04282606e+00,  2.02135671e+00,  2.02135671e+00,  5.37949216e+01,\n",
              "        2.12984622e+00,  2.12984622e+00,  2.22074490e+00,  2.11225539e+00,\n",
              "        2.02135671e+00,  2.35721393e+02,  5.08587635e+00,  8.45223580e+00,\n",
              "        2.11225539e+00,  2.02135671e+00,  2.22074490e+00,  2.14989994e+00,\n",
              "        2.11225539e+00,  2.02135671e+00,  5.19436585e+00,  5.30359052e+00,\n",
              "        2.12984622e+00,  2.02135671e+00,  2.02135671e+00,  3.08679592e+00,\n",
              "        2.02135671e+00,  2.02135671e+00,  2.12984622e+00,  3.08679592e+00,\n",
              "        2.02135671e+00,  2.12984622e+00,  2.02135671e+00,  3.53357297e+00,\n",
              "        2.02135671e+00,  5.30359052e+00,  2.12984622e+00,  2.12984622e+00,\n",
              "        2.02135671e+00,  2.02135671e+00,  2.02135671e+00,  2.02135671e+00,\n",
              "        2.12984622e+00,  2.14989994e+00,  2.02135671e+00,  2.02135671e+00,\n",
              "        2.02135671e+00,  2.12984622e+00,  3.08679592e+00,  2.02135671e+00,\n",
              "        2.02135671e+00,  2.02135671e+00,  2.05873520e+01,  2.12984622e+00,\n",
              "        2.02135671e+00,  2.02135671e+00,  2.12984622e+00,  2.02135671e+00,\n",
              "        2.02135671e+00,  2.02135671e+00,  2.02135671e+00,  2.02135671e+00,\n",
              "        2.02135671e+00,  2.02135671e+00,  2.02135671e+00,  2.12984622e+00,\n",
              "        2.12984622e+00,  2.02135671e+00,  2.12984622e+00,  2.12984622e+00,\n",
              "        2.12984622e+00,  2.02135671e+00,  2.12984622e+00,  2.02135671e+00,\n",
              "        2.02135671e+00,  2.02135671e+00,  2.02135671e+00,  2.02135671e+00,\n",
              "        2.02135671e+00,  2.02135671e+00,  2.02135671e+00,  2.02135671e+00,\n",
              "        2.12984622e+00,  2.02135671e+00,  2.02135671e+00,  2.02135671e+00,\n",
              "        2.02135671e+00,  2.02135671e+00,  2.02135671e+00,  2.02135671e+00,\n",
              "        2.02135671e+00,  2.02135671e+00,  2.02135671e+00,  2.02135671e+00,\n",
              "        2.02135671e+00,  2.02135671e+00,  2.02135671e+00,  2.02135671e+00,\n",
              "        2.02135671e+00,  2.02135671e+00,  2.12984622e+00,  2.02135671e+00,\n",
              "        2.02135671e+00,  2.02135671e+00,  2.02135671e+00,  2.02135671e+00,\n",
              "        2.02135671e+00])"
            ]
          },
          "metadata": {
            "tags": []
          },
          "execution_count": 43
        }
      ]
    },
    {
      "cell_type": "code",
      "metadata": {
        "id": "uzgkETpNjjiP",
        "colab_type": "code",
        "colab": {
          "base_uri": "https://localhost:8080/",
          "height": 34
        },
        "outputId": "4869ec70-9d3f-4d5b-fbbb-237932f5eaf7"
      },
      "source": [
        "model.score(X, y)"
      ],
      "execution_count": 44,
      "outputs": [
        {
          "output_type": "execute_result",
          "data": {
            "text/plain": [
              "0.6400005465342345"
            ]
          },
          "metadata": {
            "tags": []
          },
          "execution_count": 44
        }
      ]
    },
    {
      "cell_type": "code",
      "metadata": {
        "id": "IiirPBuYjpK7",
        "colab_type": "code",
        "colab": {
          "base_uri": "https://localhost:8080/",
          "height": 1000
        },
        "outputId": "7fc8d5c7-70ef-462d-9621-72d3f0e75b69"
      },
      "source": [
        "print(\"Predictions: \\n\")\n",
        "\n",
        "for i in range(212):\n",
        "    \n",
        "    print(\"New cases for\",df['country'][i],\": \",a_pred[i])"
      ],
      "execution_count": 45,
      "outputs": [
        {
          "output_type": "stream",
          "text": [
            "Predictions: \n",
            "\n",
            "New cases for USA :  289.3287705227515\n",
            "New cases for Russia :  8736.002278280213\n",
            "New cases for Brazil :  4.169918240067875\n",
            "New cases for Spain :  4.169918240067875\n",
            "New cases for UK :  4.169918240067875\n",
            "New cases for Italy :  4.169918240067875\n",
            "New cases for France :  4.169918240067875\n",
            "New cases for Germany :  4.55340723559046\n",
            "New cases for Turkey :  4.169918240067875\n",
            "New cases for Iran :  4.55340723559046\n",
            "New cases for India :  1173.2394890513349\n",
            "New cases for Peru :  4.169918240067875\n",
            "New cases for China :  2.649488192907652\n",
            "New cases for Canada :  4.169918240067875\n",
            "New cases for Saudi Arabia :  4.55340723559046\n",
            "New cases for Mexico :  8736.002278280213\n",
            "New cases for Chile :  -0.47635077438784634\n",
            "New cases for Belgium :  4.169918240067875\n",
            "New cases for Pakistan :  1334.6579450754532\n",
            "New cases for Netherlands :  -0.3834512209052758\n",
            "New cases for Qatar :  10.621528724084962\n",
            "New cases for Ecuador :  0.07028211111304306\n",
            "New cases for Belarus :  0.07028211111304306\n",
            "New cases for Sweden :  0.07028211111304306\n",
            "New cases for Switzerland :  2.823710849472328\n",
            "New cases for Singapore :  1.0738392374161714\n",
            "New cases for Bangladesh :  1665.246261860537\n",
            "New cases for Portugal :  5.845360273550473\n",
            "New cases for UAE :  6.023436453487651\n",
            "New cases for Ireland :  2.7152213431159584\n",
            "New cases for Poland :  8.905158001021563\n",
            "New cases for Indonesia :  1.2807991959162037\n",
            "New cases for Ukraine :  433.2497860282286\n",
            "New cases for South Africa :  0.8137340904229678\n",
            "New cases for Kuwait :  -0.021639587981289905\n",
            "New cases for Colombia :  0.08684991837507916\n",
            "New cases for Romania :  6.2397666850436755\n",
            "New cases for Israel :  2.550828958094658\n",
            "New cases for Japan :  2.8402786567343643\n",
            "New cases for Austria :  2.8402786567343643\n",
            "New cases for Egypt :  0.8137340904229678\n",
            "New cases for Dominican Republic :  0.2788226349808556\n",
            "New cases for Philippines :  159.91769505504175\n",
            "New cases for Denmark :  3.8573964602680793\n",
            "New cases for S. Korea :  17.95949609387056\n",
            "New cases for Serbia :  1.9393414003130633\n",
            "New cases for Panama :  1.7748394430111332\n",
            "New cases for Argentina :  0.8137340904229678\n",
            "New cases for Afghanistan :  531.9612003399401\n",
            "New cases for Czechia :  3.89783069855837\n",
            "New cases for Norway :  1.8308518939566936\n",
            "New cases for Bahrain :  3.668419013742973\n",
            "New cases for Algeria :  2.1347987023560826\n",
            "New cases for Kazakhstan :  316.08880120550737\n",
            "New cases for Morocco :  3.967706517919001\n",
            "New cases for Malaysia :  3.9658859666244486\n",
            "New cases for Australia :  17.95949609387056\n",
            "New cases for Nigeria :  0.1655286770622619\n",
            "New cases for Moldova :  1.7748394430111332\n",
            "New cases for Finland :  3.8573964602680793\n",
            "New cases for Ghana :  1.8921736866397494\n",
            "New cases for Oman :  11.600280730041487\n",
            "New cases for Armenia :  319.3698589394831\n",
            "New cases for Bolivia :  264.8352422947531\n",
            "New cases for Cameroon :  2.9408809911915066\n",
            "New cases for Luxembourg :  2.026309195999713\n",
            "New cases for Iraq :  3.967706517919001\n",
            "New cases for Azerbaijan :  4.850499838751857\n",
            "New cases for Hungary :  168.8801274121946\n",
            "New cases for Honduras :  152.18555991832613\n",
            "New cases for Sudan :  2.220744899447323\n",
            "New cases for Guinea :  5.194365854265154\n",
            "New cases for Thailand :  3.00561864397167\n",
            "New cases for Uzbekistan :  5.303590519106651\n",
            "New cases for Greece :  3.9658859666244486\n",
            "New cases for Senegal :  10.960357864174679\n",
            "New cases for Guatemala :  238.58172122563158\n",
            "New cases for Bulgaria :  43.53486660521696\n",
            "New cases for Bosnia and Herzegovina :  2.1122553930909524\n",
            "New cases for Tajikistan :  2.220744899447323\n",
            "New cases for Ivory Coast :  2.129846216613944\n",
            "New cases for Croatia :  2.026309195999713\n",
            "New cases for Djibouti :  2.021356710257573\n",
            "New cases for Cuba :  3.0917484097229426\n",
            "New cases for North Macedonia :  2.026309195999713\n",
            "New cases for DRC :  2.220744899447323\n",
            "New cases for Estonia :  3.069205100457808\n",
            "New cases for Iceland :  2.021356710257573\n",
            "New cases for El Salvador :  53.41111517151013\n",
            "New cases for Lithuania :  4.022736447505387\n",
            "New cases for Somalia :  2.220744899447323\n",
            "New cases for Gabon :  5.085876347908786\n",
            "New cases for New Zealand :  5.195101012750284\n",
            "New cases for Slovakia :  5.195101012750284\n",
            "New cases for Mayotte :  5.085876347908786\n",
            "New cases for Slovenia :  3.069205100457808\n",
            "New cases for Kyrgyzstan :  13.597908849454138\n",
            "New cases for Maldives :  5.085876347908786\n",
            "New cases for Kenya :  2.220744899447323\n",
            "New cases for Guinea-Bissau :  2.021356710257573\n",
            "New cases for Hong Kong :  5.303590519106651\n",
            "New cases for Sri Lanka :  2.129846216613944\n",
            "New cases for Tunisia :  2.220744899447323\n",
            "New cases for Latvia :  3.6858562835912143\n",
            "New cases for Lebanon :  15.348895915698746\n",
            "New cases for Albania :  2.021356710257573\n",
            "New cases for Mali :  2.220744899447323\n",
            "New cases for Niger :  2.220744899447323\n",
            "New cases for Cyprus :  6.042826055275636\n",
            "New cases for Costa Rica :  2.021356710257573\n",
            "New cases for Equatorial Guinea :  2.021356710257573\n",
            "New cases for Venezuela :  53.79492158105955\n",
            "New cases for Zambia :  2.129846216613944\n",
            "New cases for Paraguay :  2.129846216613944\n",
            "New cases for Burkina Faso :  2.220744899447323\n",
            "New cases for Andorra :  2.1122553930909524\n",
            "New cases for Uruguay :  2.021356710257573\n",
            "New cases for Haiti :  235.72139287486266\n",
            "New cases for Georgia :  5.085876347908786\n",
            "New cases for Jordan :  8.452235802554553\n",
            "New cases for San Marino :  2.1122553930909524\n",
            "New cases for Malta :  2.021356710257573\n",
            "New cases for Chad :  2.220744899447323\n",
            "New cases for Sierra Leone :  2.149899937578789\n",
            "New cases for Channel Islands :  2.1122553930909524\n",
            "New cases for Jamaica :  2.021356710257573\n",
            "New cases for Tanzania :  5.194365854265154\n",
            "New cases for Nepal :  5.303590519106651\n",
            "New cases for South Sudan :  2.129846216613944\n",
            "New cases for Congo :  2.021356710257573\n",
            "New cases for R?union :  2.021356710257573\n",
            "New cases for Taiwan :  3.0867959239807967\n",
            "New cases for CAR :  2.021356710257573\n",
            "New cases for Palestine :  2.021356710257573\n",
            "New cases for Madagascar :  2.129846216613944\n",
            "New cases for Ethiopia :  3.0867959239807967\n",
            "New cases for Cabo Verde :  2.021356710257573\n",
            "New cases for Togo :  2.129846216613944\n",
            "New cases for Isle of Man :  2.021356710257573\n",
            "New cases for Mauritius :  3.5335729682636545\n",
            "New cases for Montenegro :  2.021356710257573\n",
            "New cases for Vietnam :  5.303590519106651\n",
            "New cases for Rwanda :  2.129846216613944\n",
            "New cases for Nicaragua :  2.129846216613944\n",
            "New cases for Sao Tome and Principe :  2.021356710257573\n",
            "New cases for French Guiana :  2.021356710257573\n",
            "New cases for Liberia :  2.021356710257573\n",
            "New cases for Eswatini :  2.021356710257573\n",
            "New cases for Myanmar :  2.129846216613944\n",
            "New cases for Yemen :  2.149899937578789\n",
            "New cases for Martinique :  2.021356710257573\n",
            "New cases for Faeroe Islands :  2.021356710257573\n",
            "New cases for Mauritania :  2.021356710257573\n",
            "New cases for Mozambique :  2.129846216613944\n",
            "New cases for Uganda :  3.0867959239807967\n",
            "New cases for Guadeloupe :  2.021356710257573\n",
            "New cases for Gibraltar :  2.021356710257573\n",
            "New cases for Brunei :  2.021356710257573\n",
            "New cases for Mongolia :  20.58735202570745\n",
            "New cases for Benin :  2.129846216613944\n",
            "New cases for Guyana :  2.021356710257573\n",
            "New cases for Bermuda :  2.021356710257573\n",
            "New cases for Cambodia :  2.129846216613944\n",
            "New cases for Cayman Islands :  2.021356710257573\n",
            "New cases for Trinidad and Tobago :  2.021356710257573\n",
            "New cases for Aruba :  2.021356710257573\n",
            "New cases for Bahamas :  2.021356710257573\n",
            "New cases for Monaco :  2.021356710257573\n",
            "New cases for Barbados :  2.021356710257573\n",
            "New cases for Liechtenstein :  2.021356710257573\n",
            "New cases for Sint Maarten :  2.021356710257573\n",
            "New cases for Malawi :  2.129846216613944\n",
            "New cases for Libya :  2.129846216613944\n",
            "New cases for French Polynesia :  2.021356710257573\n",
            "New cases for Angola :  2.129846216613944\n",
            "New cases for Syria :  2.129846216613944\n",
            "New cases for Zimbabwe :  2.129846216613944\n",
            "New cases for Macao :  2.021356710257573\n",
            "New cases for Burundi :  2.129846216613944\n",
            "New cases for Saint Martin :  2.021356710257573\n",
            "New cases for Eritrea :  2.021356710257573\n",
            "New cases for Comoros :  2.021356710257573\n",
            "New cases for Botswana :  2.021356710257573\n",
            "New cases for Antigua and Barbuda :  2.021356710257573\n",
            "New cases for Gambia :  2.021356710257573\n",
            "New cases for Timor-Leste :  2.021356710257573\n",
            "New cases for Grenada :  2.021356710257573\n",
            "New cases for Bhutan :  2.021356710257573\n",
            "New cases for Laos :  2.129846216613944\n",
            "New cases for Belize :  2.021356710257573\n",
            "New cases for Fiji :  2.021356710257573\n",
            "New cases for Namibia :  2.021356710257573\n",
            "New cases for New Caledonia :  2.021356710257573\n",
            "New cases for Saint Lucia :  2.021356710257573\n",
            "New cases for St. Vincent Grenadines :  2.021356710257573\n",
            "New cases for Cura?ao :  2.021356710257573\n",
            "New cases for Dominica :  2.021356710257573\n",
            "New cases for Saint Kitts and Nevis :  2.021356710257573\n",
            "New cases for Falkland Islands :  2.021356710257573\n",
            "New cases for Turks and Caicos :  2.021356710257573\n",
            "New cases for Vatican City :  2.021356710257573\n",
            "New cases for Montserrat :  2.021356710257573\n",
            "New cases for Suriname :  2.021356710257573\n",
            "New cases for Greenland :  2.021356710257573\n",
            "New cases for Seychelles :  2.021356710257573\n",
            "New cases for British Virgin Islands :  2.021356710257573\n",
            "New cases for Papua New Guinea :  2.129846216613944\n",
            "New cases for Caribbean Netherlands :  2.021356710257573\n",
            "New cases for St. Barth :  2.021356710257573\n",
            "New cases for Western Sahara :  2.021356710257573\n",
            "New cases for Anguilla :  2.021356710257573\n",
            "New cases for Lesotho :  2.021356710257573\n"
          ],
          "name": "stdout"
        }
      ]
    },
    {
      "cell_type": "code",
      "metadata": {
        "id": "oOCISDcfjuzo",
        "colab_type": "code",
        "colab": {
          "base_uri": "https://localhost:8080/",
          "height": 399
        },
        "outputId": "22b533f5-f30d-46c3-bd73-357b1c553916"
      },
      "source": [
        "final_result = pd.DataFrame({\"country\":df['country'],\"new_cases\":a_pred})\n",
        "final_result"
      ],
      "execution_count": 46,
      "outputs": [
        {
          "output_type": "execute_result",
          "data": {
            "text/html": [
              "<div>\n",
              "<style scoped>\n",
              "    .dataframe tbody tr th:only-of-type {\n",
              "        vertical-align: middle;\n",
              "    }\n",
              "\n",
              "    .dataframe tbody tr th {\n",
              "        vertical-align: top;\n",
              "    }\n",
              "\n",
              "    .dataframe thead th {\n",
              "        text-align: right;\n",
              "    }\n",
              "</style>\n",
              "<table border=\"1\" class=\"dataframe\">\n",
              "  <thead>\n",
              "    <tr style=\"text-align: right;\">\n",
              "      <th></th>\n",
              "      <th>country</th>\n",
              "      <th>new_cases</th>\n",
              "    </tr>\n",
              "  </thead>\n",
              "  <tbody>\n",
              "    <tr>\n",
              "      <th>0</th>\n",
              "      <td>USA</td>\n",
              "      <td>289.328771</td>\n",
              "    </tr>\n",
              "    <tr>\n",
              "      <th>1</th>\n",
              "      <td>Russia</td>\n",
              "      <td>8736.002278</td>\n",
              "    </tr>\n",
              "    <tr>\n",
              "      <th>2</th>\n",
              "      <td>Brazil</td>\n",
              "      <td>4.169918</td>\n",
              "    </tr>\n",
              "    <tr>\n",
              "      <th>3</th>\n",
              "      <td>Spain</td>\n",
              "      <td>4.169918</td>\n",
              "    </tr>\n",
              "    <tr>\n",
              "      <th>4</th>\n",
              "      <td>UK</td>\n",
              "      <td>4.169918</td>\n",
              "    </tr>\n",
              "    <tr>\n",
              "      <th>...</th>\n",
              "      <td>...</td>\n",
              "      <td>...</td>\n",
              "    </tr>\n",
              "    <tr>\n",
              "      <th>208</th>\n",
              "      <td>St. Barth</td>\n",
              "      <td>2.021357</td>\n",
              "    </tr>\n",
              "    <tr>\n",
              "      <th>209</th>\n",
              "      <td>Western Sahara</td>\n",
              "      <td>2.021357</td>\n",
              "    </tr>\n",
              "    <tr>\n",
              "      <th>210</th>\n",
              "      <td>Anguilla</td>\n",
              "      <td>2.021357</td>\n",
              "    </tr>\n",
              "    <tr>\n",
              "      <th>211</th>\n",
              "      <td>Lesotho</td>\n",
              "      <td>2.021357</td>\n",
              "    </tr>\n",
              "    <tr>\n",
              "      <th>212</th>\n",
              "      <td>Saint Pierre Miquelon</td>\n",
              "      <td>2.021357</td>\n",
              "    </tr>\n",
              "  </tbody>\n",
              "</table>\n",
              "<p>213 rows × 2 columns</p>\n",
              "</div>"
            ],
            "text/plain": [
              "                   country    new_cases\n",
              "0                      USA   289.328771\n",
              "1                   Russia  8736.002278\n",
              "2                   Brazil     4.169918\n",
              "3                    Spain     4.169918\n",
              "4                       UK     4.169918\n",
              "..                     ...          ...\n",
              "208              St. Barth     2.021357\n",
              "209         Western Sahara     2.021357\n",
              "210               Anguilla     2.021357\n",
              "211                Lesotho     2.021357\n",
              "212  Saint Pierre Miquelon     2.021357\n",
              "\n",
              "[213 rows x 2 columns]"
            ]
          },
          "metadata": {
            "tags": []
          },
          "execution_count": 46
        }
      ]
    },
    {
      "cell_type": "code",
      "metadata": {
        "id": "Arw-j1zkkBkh",
        "colab_type": "code",
        "colab": {}
      },
      "source": [
        "final_result.to_csv(\"New_Cases_Predictions.csv\", index=False)"
      ],
      "execution_count": 0,
      "outputs": []
    },
    {
      "cell_type": "code",
      "metadata": {
        "id": "gT3NDAEkkG9V",
        "colab_type": "code",
        "colab": {}
      },
      "source": [
        ""
      ],
      "execution_count": 0,
      "outputs": []
    }
  ]
}